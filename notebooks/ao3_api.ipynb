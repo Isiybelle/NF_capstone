{
 "cells": [
  {
   "cell_type": "code",
   "execution_count": 1,
   "id": "0041cf07-989e-4c1f-9170-8b2faee6f352",
   "metadata": {},
   "outputs": [],
   "source": [
    "import pandas as pd\n",
    "import seaborn as sns\n",
    "import matplotlib.pyplot as plt\n",
    "import re\n",
    "import requests\n",
    "from bs4 import BeautifulSoup as BS\n",
    "import AO3"
   ]
  },
  {
   "cell_type": "code",
   "execution_count": 2,
   "id": "ca6c597a-1c79-43ba-9c75-553bf069cb87",
   "metadata": {},
   "outputs": [],
   "source": [
    "#pip install ao3_api\n",
    "#pip install lxml"
   ]
  },
  {
   "cell_type": "code",
   "execution_count": 3,
   "id": "98897b5b-b120-4f46-b207-b8b7f10573ac",
   "metadata": {},
   "outputs": [
    {
     "data": {
      "text/plain": [
       "{'fandoms': ['anime_manga_fandoms',\n",
       "  'books_literature_fandoms',\n",
       "  'cartoons_comics_graphicnovels_fandoms',\n",
       "  'celebrities_real_people_fandoms',\n",
       "  'movies_fandoms',\n",
       "  'music_bands_fandoms',\n",
       "  'other_media_fandoms',\n",
       "  'theater_fandoms',\n",
       "  'tvshows_fandoms',\n",
       "  'videogames_fandoms',\n",
       "  'uncategorized_fandoms'],\n",
       " 'languages': ['languages']}"
      ]
     },
     "execution_count": 3,
     "metadata": {},
     "output_type": "execute_result"
    }
   ],
   "source": [
    "AO3.extra.get_resources()"
   ]
  },
  {
   "cell_type": "code",
   "execution_count": 4,
   "id": "94f045d1-78e0-4245-9308-1b73080638cc",
   "metadata": {},
   "outputs": [],
   "source": [
    "#AO3.extra.download_all()"
   ]
  },
  {
   "cell_type": "code",
   "execution_count": 8,
   "id": "4ee8293c-b5c6-4dd6-8848-9e6c6a843f4d",
   "metadata": {},
   "outputs": [],
   "source": [
    "test = AO3.Search(any_field=\"Clarke Lexa\", word_count=AO3.utils.Constraint(5000, 15000))"
   ]
  },
  {
   "cell_type": "code",
   "execution_count": 24,
   "id": "ebea6e57-a56f-419a-bd8a-7d5f153dfc11",
   "metadata": {},
   "outputs": [
    {
     "data": {
      "text/plain": [
       "3201"
      ]
     },
     "execution_count": 24,
     "metadata": {},
     "output_type": "execute_result"
    }
   ],
   "source": [
    "test.total_results"
   ]
  },
  {
   "cell_type": "code",
   "execution_count": 10,
   "id": "6895fa3e-98df-4664-b170-07611f42afa5",
   "metadata": {},
   "outputs": [],
   "source": [
    "test.update()"
   ]
  },
  {
   "cell_type": "code",
   "execution_count": 11,
   "id": "27cb8167-737e-4912-8db3-1d333f3e3033",
   "metadata": {},
   "outputs": [
    {
     "data": {
      "text/plain": [
       "3201"
      ]
     },
     "execution_count": 11,
     "metadata": {},
     "output_type": "execute_result"
    }
   ],
   "source": [
    "test.total_results"
   ]
  },
  {
   "cell_type": "code",
   "execution_count": 23,
   "id": "f83e5da1-eea1-4691-a6f5-f3cc9f0f8ed8",
   "metadata": {},
   "outputs": [
    {
     "name": "stdout",
     "output_type": "stream",
     "text": [
      "3201\n",
      "<Work [five times lexa falls for clarke]>\n",
      "<Work [an incomplete list of reasons (why Clarke loves Lexa)]>\n",
      "<Work [five times clarke and lexa aren’t sure if they're a couple or not]>\n",
      "<Work [Ode to Clarke]>\n",
      "<Work [The New Commander (Lexa Joining Camp Jaha)]>\n",
      "<Work [Self Control]>\n",
      "<Work [Is This Love?]>\n",
      "<Work [Fate in Familiar Places]>\n",
      "<Work [The Girlfriend Tag]>\n",
      "<Work [The Wounds Will Heal]>\n",
      "<Work [Winter]>\n",
      "<Work [Through My Eyes]>\n",
      "<Work [no body, no crime]>\n",
      "<Work [A Night in the Old World]>\n",
      "<Work [The Games We Play]>\n",
      "<Work [A l'épreuve des balles]>\n",
      "<Work [Another level of fucked up]>\n",
      "<Work [Celebration]>\n",
      "<Work [My only wish]>\n",
      "<Work [Yearning for the Past]>\n"
     ]
    }
   ],
   "source": [
    "print(test.total_results)\n",
    "for result in test.results:\n",
    "    print(result)\n",
    "test.page = 2"
   ]
  },
  {
   "cell_type": "code",
   "execution_count": 26,
   "id": "fe24b693-1143-4497-b18a-2aab533c1d12",
   "metadata": {},
   "outputs": [],
   "source": [
    "test.page = 2\n",
    "test.update()"
   ]
  },
  {
   "cell_type": "code",
   "execution_count": 27,
   "id": "cd95451e-53d9-4945-9646-9a09c37efee7",
   "metadata": {},
   "outputs": [
    {
     "name": "stdout",
     "output_type": "stream",
     "text": [
      "3201\n",
      "<Work [A true friend is worth anything]>\n",
      "<Work [My only wish]>\n",
      "<Work [Another level of fucked up]>\n",
      "<Work [May We Meet Again]>\n",
      "<Work [Follow You Down]>\n",
      "<Work [The Switch]>\n",
      "<Work [Professor Woods]>\n",
      "<Work [Lexa's journey to Love]>\n",
      "<Work [The Stall]>\n",
      "<Work [Bloody Bottom]>\n",
      "<Work [The Counter]>\n",
      "<Work [I've got you]>\n",
      "<Work [Priceless love]>\n",
      "<Work [The New Girl in Town]>\n",
      "<Work [Swimming her way into my heart]>\n",
      "<Work [Burning for You]>\n",
      "<Work [Mistakes Were Made]>\n",
      "<Work [Skyfallen]>\n",
      "<Work [Birthday Surprise]>\n",
      "<Work [Found Family]>\n"
     ]
    }
   ],
   "source": [
    "print(test.total_results)\n",
    "for result in test.results:\n",
    "    print(result)"
   ]
  },
  {
   "cell_type": "code",
   "execution_count": 28,
   "id": "9ecae4dc-a05c-48a7-93dc-64b1f2701306",
   "metadata": {},
   "outputs": [
    {
     "data": {
      "text/plain": [
       "<AO3.search.Search at 0x2835b8d0950>"
      ]
     },
     "execution_count": 28,
     "metadata": {},
     "output_type": "execute_result"
    }
   ],
   "source": [
    "AO3.Search()"
   ]
  },
  {
   "cell_type": "code",
   "execution_count": 38,
   "id": "96743f55-9438-4f22-8b40-7a4524be520a",
   "metadata": {},
   "outputs": [
    {
     "ename": "TypeError",
     "evalue": "Search.__init__() got an unexpected keyword argument 'created_at'",
     "output_type": "error",
     "traceback": [
      "\u001b[1;31m---------------------------------------------------------------------------\u001b[0m",
      "\u001b[1;31mTypeError\u001b[0m                                 Traceback (most recent call last)",
      "Cell \u001b[1;32mIn[38], line 1\u001b[0m\n\u001b[1;32m----> 1\u001b[0m sw \u001b[38;5;241m=\u001b[39m AO3\u001b[38;5;241m.\u001b[39mSearch(fandoms\u001b[38;5;241m=\u001b[39m\u001b[38;5;124m\"\u001b[39m\u001b[38;5;124mStar Wars - All Media Types\u001b[39m\u001b[38;5;124m\"\u001b[39m, created_at\u001b[38;5;241m=\u001b[39m\u001b[38;5;124m\"\u001b[39m\u001b[38;5;124m>2021-02-01\u001b[39m\u001b[38;5;124m\"\u001b[39m)\n",
      "\u001b[1;31mTypeError\u001b[0m: Search.__init__() got an unexpected keyword argument 'created_at'"
     ]
    }
   ],
   "source": [
    "sw = AO3.Search(fandoms=\"Star Wars - All Media Types\", created_at=\">2021-02-01\")"
   ]
  },
  {
   "cell_type": "code",
   "execution_count": 35,
   "id": "2b90d895-97b7-4f31-ab40-db2b89c7c4df",
   "metadata": {},
   "outputs": [
    {
     "data": {
      "text/plain": [
       "0"
      ]
     },
     "execution_count": 35,
     "metadata": {},
     "output_type": "execute_result"
    }
   ],
   "source": [
    "sw.update()\n",
    "sw.total_results"
   ]
  },
  {
   "cell_type": "code",
   "execution_count": null,
   "id": "65b50e4b-00f0-4470-94a5-951c5d48b1c6",
   "metadata": {},
   "outputs": [],
   "source": []
  }
 ],
 "metadata": {
  "kernelspec": {
   "display_name": "Python 3 (ipykernel)",
   "language": "python",
   "name": "python3"
  },
  "language_info": {
   "codemirror_mode": {
    "name": "ipython",
    "version": 3
   },
   "file_extension": ".py",
   "mimetype": "text/x-python",
   "name": "python",
   "nbconvert_exporter": "python",
   "pygments_lexer": "ipython3",
   "version": "3.12.7"
  }
 },
 "nbformat": 4,
 "nbformat_minor": 5
}
