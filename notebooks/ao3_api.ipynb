{
 "cells": [
  {
   "cell_type": "code",
   "execution_count": 3,
   "id": "0041cf07-989e-4c1f-9170-8b2faee6f352",
   "metadata": {},
   "outputs": [],
   "source": [
    "import pandas as pd\n",
    "import seaborn as sns\n",
    "import matplotlib.pyplot as plt\n",
    "import re\n",
    "import requests\n",
    "from bs4 import BeautifulSoup as BS\n",
    "import AO3"
   ]
  },
  {
   "cell_type": "code",
   "execution_count": 2,
   "id": "ca6c597a-1c79-43ba-9c75-553bf069cb87",
   "metadata": {},
   "outputs": [],
   "source": [
    "#pip install ao3_api\n",
    "#pip install lxml"
   ]
  },
  {
   "cell_type": "code",
   "execution_count": 4,
   "id": "98897b5b-b120-4f46-b207-b8b7f10573ac",
   "metadata": {},
   "outputs": [
    {
     "data": {
      "text/plain": [
       "{'fandoms': ['anime_manga_fandoms',\n",
       "  'books_literature_fandoms',\n",
       "  'cartoons_comics_graphicnovels_fandoms',\n",
       "  'celebrities_real_people_fandoms',\n",
       "  'movies_fandoms',\n",
       "  'music_bands_fandoms',\n",
       "  'other_media_fandoms',\n",
       "  'theater_fandoms',\n",
       "  'tvshows_fandoms',\n",
       "  'videogames_fandoms',\n",
       "  'uncategorized_fandoms'],\n",
       " 'languages': ['languages']}"
      ]
     },
     "execution_count": 4,
     "metadata": {},
     "output_type": "execute_result"
    }
   ],
   "source": [
    "AO3.extra.get_resources()"
   ]
  },
  {
   "cell_type": "code",
   "execution_count": 22,
   "id": "94f045d1-78e0-4245-9308-1b73080638cc",
   "metadata": {},
   "outputs": [],
   "source": [
    "#AO3.extra.download_all()"
   ]
  },
  {
   "cell_type": "code",
   "execution_count": 24,
   "id": "f83e5da1-eea1-4691-a6f5-f3cc9f0f8ed8",
   "metadata": {},
   "outputs": [
    {
     "name": "stdout",
     "output_type": "stream",
     "text": [
      "3201\n",
      "<Work [five times lexa falls for clarke]>\n",
      "<Work [an incomplete list of reasons (why Clarke loves Lexa)]>\n",
      "<Work [five times clarke and lexa aren’t sure if they're a couple or not]>\n",
      "<Work [The New Commander (Lexa Joining Camp Jaha)]>\n",
      "<Work [The Girlfriend Tag]>\n",
      "<Work [Ode to Clarke]>\n",
      "<Work [Self Control]>\n",
      "<Work [Is This Love?]>\n",
      "<Work [The Games We Play]>\n",
      "<Work [Winter]>\n",
      "<Work [no body, no crime]>\n",
      "<Work [A l'épreuve des balles]>\n",
      "<Work [Fate in Familiar Places]>\n",
      "<Work [Through My Eyes]>\n",
      "<Work [A Night in the Old World]>\n",
      "<Work [May We Meet Again]>\n",
      "<Work [Celebration]>\n",
      "<Work [The Wounds Will Heal]>\n",
      "<Work [I've got you]>\n",
      "<Work [The Counter]>\n"
     ]
    }
   ],
   "source": [
    "search = AO3.Search(any_field=\"Clarke Lexa\", word_count=AO3.utils.Constraint(5000, 15000))\n",
    "search.update()\n",
    "print(search.total_results)\n",
    "for result in search.results:\n",
    "  print(result)"
   ]
  },
  {
   "cell_type": "code",
   "execution_count": 26,
   "id": "9ecae4dc-a05c-48a7-93dc-64b1f2701306",
   "metadata": {},
   "outputs": [
    {
     "data": {
      "text/plain": [
       "<AO3.search.Search at 0x29ee2af7350>"
      ]
     },
     "execution_count": 26,
     "metadata": {},
     "output_type": "execute_result"
    }
   ],
   "source": [
    "AO3.Search()"
   ]
  },
  {
   "cell_type": "code",
   "execution_count": 39,
   "id": "96743f55-9438-4f22-8b40-7a4524be520a",
   "metadata": {},
   "outputs": [
    {
     "ename": "AttributeError",
     "evalue": "'NoneType' object has no attribute 'find_all'",
     "output_type": "error",
     "traceback": [
      "\u001b[1;31m---------------------------------------------------------------------------\u001b[0m",
      "\u001b[1;31mAttributeError\u001b[0m                            Traceback (most recent call last)",
      "Cell \u001b[1;32mIn[39], line 1\u001b[0m\n\u001b[1;32m----> 1\u001b[0m \u001b[38;5;28mprint\u001b[39m((AO3\u001b[38;5;241m.\u001b[39mSearch(fandoms\u001b[38;5;241m=\u001b[39m\u001b[38;5;124m\"\u001b[39m\u001b[38;5;124mStar Wars - All Media Types\u001b[39m\u001b[38;5;124m\"\u001b[39m))\u001b[38;5;241m.\u001b[39mupdate())\n",
      "File \u001b[1;32m~\\anaconda3\\Lib\\site-packages\\AO3\\threadable.py:13\u001b[0m, in \u001b[0;36mthreadable.<locals>.new\u001b[1;34m(threaded, *args, **kwargs)\u001b[0m\n\u001b[0;32m     11\u001b[0m     \u001b[38;5;28;01mreturn\u001b[39;00m thread\n\u001b[0;32m     12\u001b[0m \u001b[38;5;28;01melse\u001b[39;00m:\n\u001b[1;32m---> 13\u001b[0m     \u001b[38;5;28;01mreturn\u001b[39;00m func(\u001b[38;5;241m*\u001b[39margs, \u001b[38;5;241m*\u001b[39m\u001b[38;5;241m*\u001b[39mkwargs)\n",
      "File \u001b[1;32m~\\anaconda3\\Lib\\site-packages\\AO3\\search.py:106\u001b[0m, in \u001b[0;36mSearch.update\u001b[1;34m(self)\u001b[0m\n\u001b[0;32m    103\u001b[0m     \u001b[38;5;28;01mreturn\u001b[39;00m\n\u001b[0;32m    105\u001b[0m works \u001b[38;5;241m=\u001b[39m []\n\u001b[1;32m--> 106\u001b[0m \u001b[38;5;28;01mfor\u001b[39;00m work \u001b[38;5;129;01min\u001b[39;00m results\u001b[38;5;241m.\u001b[39mfind_all(\u001b[38;5;124m\"\u001b[39m\u001b[38;5;124mli\u001b[39m\u001b[38;5;124m\"\u001b[39m, {\u001b[38;5;124m\"\u001b[39m\u001b[38;5;124mrole\u001b[39m\u001b[38;5;124m\"\u001b[39m: \u001b[38;5;124m\"\u001b[39m\u001b[38;5;124marticle\u001b[39m\u001b[38;5;124m\"\u001b[39m}):\n\u001b[0;32m    107\u001b[0m     \u001b[38;5;28;01mif\u001b[39;00m work\u001b[38;5;241m.\u001b[39mh4 \u001b[38;5;129;01mis\u001b[39;00m \u001b[38;5;28;01mNone\u001b[39;00m:\n\u001b[0;32m    108\u001b[0m         \u001b[38;5;28;01mcontinue\u001b[39;00m\n",
      "\u001b[1;31mAttributeError\u001b[0m: 'NoneType' object has no attribute 'find_all'"
     ]
    }
   ],
   "source": [
    "print((AO3.Search(fandoms=\"Star Wars - All Media Types\")).update())"
   ]
  },
  {
   "cell_type": "code",
   "execution_count": null,
   "id": "2b90d895-97b7-4f31-ab40-db2b89c7c4df",
   "metadata": {},
   "outputs": [],
   "source": []
  }
 ],
 "metadata": {
  "kernelspec": {
   "display_name": "Python 3 (ipykernel)",
   "language": "python",
   "name": "python3"
  },
  "language_info": {
   "codemirror_mode": {
    "name": "ipython",
    "version": 3
   },
   "file_extension": ".py",
   "mimetype": "text/x-python",
   "name": "python",
   "nbconvert_exporter": "python",
   "pygments_lexer": "ipython3",
   "version": "3.12.7"
  }
 },
 "nbformat": 4,
 "nbformat_minor": 5
}
